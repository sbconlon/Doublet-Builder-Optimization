{
 "cells": [
  {
   "cell_type": "markdown",
   "metadata": {},
   "source": [
    "## Doublet Maker"
   ]
  },
  {
   "cell_type": "markdown",
   "metadata": {},
   "source": [
    "### 1 Imports"
   ]
  },
  {
   "cell_type": "code",
   "execution_count": 1,
   "metadata": {},
   "outputs": [],
   "source": [
    "import numpy as np\n",
    "import pandas as pd\n",
    "import trackml.dataset\n",
    "import cupy as cp\n",
    "\n",
    "#CPU Imports\n",
    "from numba import jit, guvectorize, prange\n",
    "from numba import int64, float32, boolean\n",
    "\n",
    "import doublet_making_helper as cpu\n",
    "import gpu_doublet_making_helper as gpu"
   ]
  },
  {
   "cell_type": "markdown",
   "metadata": {},
   "source": [
    "### 2 Constants"
   ]
  },
  {
   "cell_type": "code",
   "execution_count": 2,
   "metadata": {},
   "outputs": [],
   "source": [
    "pt_min = 0\n",
    "path= \"../exatrkx-work/volpredictor/train_100_events/\"\n",
    "nPhiSlices = 53\n",
    "nLayers = 10\n",
    "maxDoubletLength = 300.0\n",
    "minDoubletLength = 10.0\n",
    "zPlus = 150.0\n",
    "zMinus = -150.0\n",
    "maxEta = 2.7\n",
    "maxTheta = 2 * np.arctan(np.exp(-maxEta))    \n",
    "maxCtg = np.cos(maxTheta) / np.sin(maxTheta) \n",
    "modelLayers = np.array([\n",
    "                [0, 32,   -455,  455],   # 8-2\n",
    "                [0, 72,   -455,  455],   # 8-4\n",
    "                [0, 116,  -455,  455],   # 8-6\n",
    "                [0, 172,  -455,  455],   # 8-8\n",
    "                [0, 260,  -1030, 1030],  # 13-2\n",
    "                [0, 360,  -1030, 1030],  # 13-4\n",
    "                [0, 500,  -1030, 1030],  # 13-6\n",
    "                [0, 660,  -1030, 1030],  # 13-8\n",
    "                [0, 820,  -1030, 1030],  # 17-2\n",
    "                [0, 1020, -1030, 1030]   # 17-4\n",
    "], dtype='int32')\n",
    "\n",
    "#Get the radius of each layer\n",
    "refCoords = np.array([modelLayers[layer_idx][1] for layer_idx in range(nLayers)], dtype=np.int64)\n",
    "gpu_refCoords = cp.array([modelLayers[layer_idx][1] for layer_idx in range(nLayers)], dtype=np.int32)\n",
    "\n",
    "FALSE_INT = 99999   #Integer that represents a false value"
   ]
  },
  {
   "cell_type": "markdown",
   "metadata": {},
   "source": [
    "### 3 Load Data"
   ]
  },
  {
   "cell_type": "code",
   "execution_count": 3,
   "metadata": {},
   "outputs": [],
   "source": [
    "np.random.seed(30) # Chef Curry\n",
    "prefix= \"event00000\" + str(np.random.choice(100) + 1000)\n",
    "hits, particles, truth = trackml.dataset.load_event(\n",
    "        path + prefix, parts=['hits', 'particles', 'truth'])"
   ]
  },
  {
   "cell_type": "markdown",
   "metadata": {},
   "source": [
    "### 4 Prepare Data"
   ]
  },
  {
   "cell_type": "markdown",
   "metadata": {},
   "source": [
    "##### Make cuts"
   ]
  },
  {
   "cell_type": "code",
   "execution_count": 4,
   "metadata": {},
   "outputs": [
    {
     "name": "stdout",
     "output_type": "stream",
     "text": [
      "CPU times: user 4.3 s, sys: 0 ns, total: 4.3 s\n",
      "Wall time: 4.32 s\n"
     ]
    },
    {
     "data": {
      "text/html": [
       "<div>\n",
       "<style scoped>\n",
       "    .dataframe tbody tr th:only-of-type {\n",
       "        vertical-align: middle;\n",
       "    }\n",
       "\n",
       "    .dataframe tbody tr th {\n",
       "        vertical-align: top;\n",
       "    }\n",
       "\n",
       "    .dataframe thead th {\n",
       "        text-align: right;\n",
       "    }\n",
       "</style>\n",
       "<table border=\"1\" class=\"dataframe\">\n",
       "  <thead>\n",
       "    <tr style=\"text-align: right;\">\n",
       "      <th></th>\n",
       "      <th>hit_id</th>\n",
       "      <th>x</th>\n",
       "      <th>y</th>\n",
       "      <th>z</th>\n",
       "      <th>volume_id</th>\n",
       "      <th>layer_id</th>\n",
       "      <th>module_id</th>\n",
       "      <th>layer</th>\n",
       "      <th>r</th>\n",
       "      <th>particle_id</th>\n",
       "    </tr>\n",
       "  </thead>\n",
       "  <tbody>\n",
       "    <tr>\n",
       "      <th>5041</th>\n",
       "      <td>20683</td>\n",
       "      <td>31.391100</td>\n",
       "      <td>-1.742210</td>\n",
       "      <td>66.873100</td>\n",
       "      <td>8</td>\n",
       "      <td>2</td>\n",
       "      <td>120</td>\n",
       "      <td>0</td>\n",
       "      <td>31.439409</td>\n",
       "      <td>4503874505277440</td>\n",
       "    </tr>\n",
       "    <tr>\n",
       "      <th>13737</th>\n",
       "      <td>29745</td>\n",
       "      <td>71.156197</td>\n",
       "      <td>-1.098510</td>\n",
       "      <td>150.440002</td>\n",
       "      <td>8</td>\n",
       "      <td>4</td>\n",
       "      <td>304</td>\n",
       "      <td>1</td>\n",
       "      <td>71.164673</td>\n",
       "      <td>4503874505277440</td>\n",
       "    </tr>\n",
       "    <tr>\n",
       "      <th>20044</th>\n",
       "      <td>36655</td>\n",
       "      <td>116.768997</td>\n",
       "      <td>3.419910</td>\n",
       "      <td>246.522003</td>\n",
       "      <td>8</td>\n",
       "      <td>6</td>\n",
       "      <td>547</td>\n",
       "      <td>2</td>\n",
       "      <td>116.819069</td>\n",
       "      <td>4503874505277440</td>\n",
       "    </tr>\n",
       "    <tr>\n",
       "      <th>25466</th>\n",
       "      <td>43100</td>\n",
       "      <td>170.757996</td>\n",
       "      <td>14.356700</td>\n",
       "      <td>362.315002</td>\n",
       "      <td>8</td>\n",
       "      <td>8</td>\n",
       "      <td>976</td>\n",
       "      <td>3</td>\n",
       "      <td>171.360458</td>\n",
       "      <td>4503874505277440</td>\n",
       "    </tr>\n",
       "    <tr>\n",
       "      <th>30823</th>\n",
       "      <td>73099</td>\n",
       "      <td>252.804993</td>\n",
       "      <td>43.484100</td>\n",
       "      <td>545.200012</td>\n",
       "      <td>13</td>\n",
       "      <td>2</td>\n",
       "      <td>622</td>\n",
       "      <td>4</td>\n",
       "      <td>256.517487</td>\n",
       "      <td>4503874505277440</td>\n",
       "    </tr>\n",
       "    <tr>\n",
       "      <th>...</th>\n",
       "      <td>...</td>\n",
       "      <td>...</td>\n",
       "      <td>...</td>\n",
       "      <td>...</td>\n",
       "      <td>...</td>\n",
       "      <td>...</td>\n",
       "      <td>...</td>\n",
       "      <td>...</td>\n",
       "      <td>...</td>\n",
       "      <td>...</td>\n",
       "    </tr>\n",
       "    <tr>\n",
       "      <th>30344</th>\n",
       "      <td>72575</td>\n",
       "      <td>-247.811005</td>\n",
       "      <td>69.083298</td>\n",
       "      <td>259.200012</td>\n",
       "      <td>13</td>\n",
       "      <td>2</td>\n",
       "      <td>559</td>\n",
       "      <td>4</td>\n",
       "      <td>257.260162</td>\n",
       "      <td>801642176780959744</td>\n",
       "    </tr>\n",
       "    <tr>\n",
       "      <th>40856</th>\n",
       "      <td>85479</td>\n",
       "      <td>-415.795990</td>\n",
       "      <td>277.283997</td>\n",
       "      <td>524.000000</td>\n",
       "      <td>13</td>\n",
       "      <td>6</td>\n",
       "      <td>1241</td>\n",
       "      <td>6</td>\n",
       "      <td>499.772675</td>\n",
       "      <td>801642176780959744</td>\n",
       "    </tr>\n",
       "    <tr>\n",
       "      <th>44753</th>\n",
       "      <td>91383</td>\n",
       "      <td>-440.278015</td>\n",
       "      <td>488.877014</td>\n",
       "      <td>734.799988</td>\n",
       "      <td>13</td>\n",
       "      <td>8</td>\n",
       "      <td>1823</td>\n",
       "      <td>7</td>\n",
       "      <td>657.909912</td>\n",
       "      <td>801642176780959744</td>\n",
       "    </tr>\n",
       "    <tr>\n",
       "      <th>47731</th>\n",
       "      <td>107646</td>\n",
       "      <td>-270.306000</td>\n",
       "      <td>775.133972</td>\n",
       "      <td>1067.800049</td>\n",
       "      <td>17</td>\n",
       "      <td>2</td>\n",
       "      <td>2497</td>\n",
       "      <td>8</td>\n",
       "      <td>820.912903</td>\n",
       "      <td>801642176780959744</td>\n",
       "    </tr>\n",
       "    <tr>\n",
       "      <th>45051</th>\n",
       "      <td>91858</td>\n",
       "      <td>-237.419006</td>\n",
       "      <td>614.135010</td>\n",
       "      <td>915.599976</td>\n",
       "      <td>13</td>\n",
       "      <td>8</td>\n",
       "      <td>2021</td>\n",
       "      <td>7</td>\n",
       "      <td>658.429626</td>\n",
       "      <td>801642176797745154</td>\n",
       "    </tr>\n",
       "  </tbody>\n",
       "</table>\n",
       "<p>40095 rows × 10 columns</p>\n",
       "</div>"
      ],
      "text/plain": [
       "       hit_id           x           y            z  volume_id  layer_id  \\\n",
       "5041    20683   31.391100   -1.742210    66.873100          8         2   \n",
       "13737   29745   71.156197   -1.098510   150.440002          8         4   \n",
       "20044   36655  116.768997    3.419910   246.522003          8         6   \n",
       "25466   43100  170.757996   14.356700   362.315002          8         8   \n",
       "30823   73099  252.804993   43.484100   545.200012         13         2   \n",
       "...       ...         ...         ...          ...        ...       ...   \n",
       "30344   72575 -247.811005   69.083298   259.200012         13         2   \n",
       "40856   85479 -415.795990  277.283997   524.000000         13         6   \n",
       "44753   91383 -440.278015  488.877014   734.799988         13         8   \n",
       "47731  107646 -270.306000  775.133972  1067.800049         17         2   \n",
       "45051   91858 -237.419006  614.135010   915.599976         13         8   \n",
       "\n",
       "       module_id  layer           r         particle_id  \n",
       "5041         120      0   31.439409    4503874505277440  \n",
       "13737        304      1   71.164673    4503874505277440  \n",
       "20044        547      2  116.819069    4503874505277440  \n",
       "25466        976      3  171.360458    4503874505277440  \n",
       "30823        622      4  256.517487    4503874505277440  \n",
       "...          ...    ...         ...                 ...  \n",
       "30344        559      4  257.260162  801642176780959744  \n",
       "40856       1241      6  499.772675  801642176780959744  \n",
       "44753       1823      7  657.909912  801642176780959744  \n",
       "47731       2497      8  820.912903  801642176780959744  \n",
       "45051       2021      7  658.429626  801642176797745154  \n",
       "\n",
       "[40095 rows x 10 columns]"
      ]
     },
     "execution_count": 4,
     "metadata": {},
     "output_type": "execute_result"
    }
   ],
   "source": [
    "%%time\n",
    "# Barrel volume and layer ids\n",
    "vlids = [(8,2), (8,4), (8,6), (8,8),\n",
    "         (13,2), (13,4), (13,6), (13,8),\n",
    "         (17,2), (17,4)]\n",
    "n_det_layers = len(vlids)\n",
    "\n",
    "# Select barrel layers and assign convenient layer number [0-9]\n",
    "vlid_groups = hits.groupby(['volume_id', 'layer_id'])\n",
    "hits = pd.concat([vlid_groups.get_group(vlids[i]).assign(layer=i)\n",
    "                  for i in range(n_det_layers)])\n",
    "\n",
    "# Calculate particle transverse momentum\n",
    "pt = np.sqrt(particles.px**2 + particles.py**2)\n",
    "\n",
    "# True particle selection.\n",
    "# Applies pt cut, removes all noise hits.\n",
    "particles = particles[pt > pt_min]\n",
    "truth = (truth[['hit_id', 'particle_id']]\n",
    "         .merge(particles[['particle_id']], on='particle_id'))\n",
    "\n",
    "# Calculate derived hits variables\n",
    "r = np.sqrt(hits.x**2 + hits.y**2)\n",
    "phi = np.arctan2(hits.y, hits.x)\n",
    "\n",
    "# Select the data columns we need\n",
    "hits = (hits\n",
    "        .assign(r=r)\n",
    "        .merge(truth[['hit_id', 'particle_id']], on='hit_id'))\n",
    "\n",
    "# Remove duplicate hits\n",
    "hits = hits.loc[\n",
    "    hits.groupby(['particle_id', 'layer'], as_index=False).r.idxmin()\n",
    "]\n",
    "\n",
    "hits"
   ]
  },
  {
   "cell_type": "markdown",
   "metadata": {},
   "source": [
    "##### Reformat hit table"
   ]
  },
  {
   "cell_type": "code",
   "execution_count": 5,
   "metadata": {},
   "outputs": [
    {
     "name": "stdout",
     "output_type": "stream",
     "text": [
      "Number of hits:  40095\n",
      "CPU times: user 116 ms, sys: 0 ns, total: 116 ms\n",
      "Wall time: 115 ms\n"
     ]
    },
    {
     "data": {
      "text/html": [
       "<div>\n",
       "<style scoped>\n",
       "    .dataframe tbody tr th:only-of-type {\n",
       "        vertical-align: middle;\n",
       "    }\n",
       "\n",
       "    .dataframe tbody tr th {\n",
       "        vertical-align: top;\n",
       "    }\n",
       "\n",
       "    .dataframe thead th {\n",
       "        text-align: right;\n",
       "    }\n",
       "</style>\n",
       "<table border=\"1\" class=\"dataframe\">\n",
       "  <thead>\n",
       "    <tr style=\"text-align: right;\">\n",
       "      <th></th>\n",
       "      <th>hit_id</th>\n",
       "      <th>layer</th>\n",
       "      <th>phi_bin</th>\n",
       "      <th>r</th>\n",
       "      <th>z</th>\n",
       "      <th>particle_id</th>\n",
       "    </tr>\n",
       "  </thead>\n",
       "  <tbody>\n",
       "    <tr>\n",
       "      <th>5041</th>\n",
       "      <td>20683</td>\n",
       "      <td>0</td>\n",
       "      <td>51</td>\n",
       "      <td>31.439409</td>\n",
       "      <td>66.873100</td>\n",
       "      <td>4503874505277440</td>\n",
       "    </tr>\n",
       "    <tr>\n",
       "      <th>13737</th>\n",
       "      <td>29745</td>\n",
       "      <td>1</td>\n",
       "      <td>51</td>\n",
       "      <td>71.164673</td>\n",
       "      <td>150.440002</td>\n",
       "      <td>4503874505277440</td>\n",
       "    </tr>\n",
       "    <tr>\n",
       "      <th>20044</th>\n",
       "      <td>36655</td>\n",
       "      <td>2</td>\n",
       "      <td>0</td>\n",
       "      <td>116.819069</td>\n",
       "      <td>246.522003</td>\n",
       "      <td>4503874505277440</td>\n",
       "    </tr>\n",
       "    <tr>\n",
       "      <th>25466</th>\n",
       "      <td>43100</td>\n",
       "      <td>3</td>\n",
       "      <td>0</td>\n",
       "      <td>171.360458</td>\n",
       "      <td>362.315002</td>\n",
       "      <td>4503874505277440</td>\n",
       "    </tr>\n",
       "    <tr>\n",
       "      <th>30823</th>\n",
       "      <td>73099</td>\n",
       "      <td>4</td>\n",
       "      <td>1</td>\n",
       "      <td>256.517517</td>\n",
       "      <td>545.200012</td>\n",
       "      <td>4503874505277440</td>\n",
       "    </tr>\n",
       "    <tr>\n",
       "      <th>...</th>\n",
       "      <td>...</td>\n",
       "      <td>...</td>\n",
       "      <td>...</td>\n",
       "      <td>...</td>\n",
       "      <td>...</td>\n",
       "      <td>...</td>\n",
       "    </tr>\n",
       "    <tr>\n",
       "      <th>30344</th>\n",
       "      <td>72575</td>\n",
       "      <td>4</td>\n",
       "      <td>23</td>\n",
       "      <td>257.260162</td>\n",
       "      <td>259.200012</td>\n",
       "      <td>801642176780959744</td>\n",
       "    </tr>\n",
       "    <tr>\n",
       "      <th>40856</th>\n",
       "      <td>85479</td>\n",
       "      <td>6</td>\n",
       "      <td>21</td>\n",
       "      <td>499.772675</td>\n",
       "      <td>524.000000</td>\n",
       "      <td>801642176780959744</td>\n",
       "    </tr>\n",
       "    <tr>\n",
       "      <th>44753</th>\n",
       "      <td>91383</td>\n",
       "      <td>7</td>\n",
       "      <td>19</td>\n",
       "      <td>657.909912</td>\n",
       "      <td>734.799988</td>\n",
       "      <td>801642176780959744</td>\n",
       "    </tr>\n",
       "    <tr>\n",
       "      <th>47731</th>\n",
       "      <td>107646</td>\n",
       "      <td>8</td>\n",
       "      <td>15</td>\n",
       "      <td>820.912903</td>\n",
       "      <td>1067.800049</td>\n",
       "      <td>801642176780959744</td>\n",
       "    </tr>\n",
       "    <tr>\n",
       "      <th>45051</th>\n",
       "      <td>91858</td>\n",
       "      <td>7</td>\n",
       "      <td>16</td>\n",
       "      <td>658.429626</td>\n",
       "      <td>915.599976</td>\n",
       "      <td>801642176797745154</td>\n",
       "    </tr>\n",
       "  </tbody>\n",
       "</table>\n",
       "<p>40095 rows × 6 columns</p>\n",
       "</div>"
      ],
      "text/plain": [
       "       hit_id  layer  phi_bin           r            z         particle_id\n",
       "5041    20683      0       51   31.439409    66.873100    4503874505277440\n",
       "13737   29745      1       51   71.164673   150.440002    4503874505277440\n",
       "20044   36655      2        0  116.819069   246.522003    4503874505277440\n",
       "25466   43100      3        0  171.360458   362.315002    4503874505277440\n",
       "30823   73099      4        1  256.517517   545.200012    4503874505277440\n",
       "...       ...    ...      ...         ...          ...                 ...\n",
       "30344   72575      4       23  257.260162   259.200012  801642176780959744\n",
       "40856   85479      6       21  499.772675   524.000000  801642176780959744\n",
       "44753   91383      7       19  657.909912   734.799988  801642176780959744\n",
       "47731  107646      8       15  820.912903  1067.800049  801642176780959744\n",
       "45051   91858      7       16  658.429626   915.599976  801642176797745154\n",
       "\n",
       "[40095 rows x 6 columns]"
      ]
     },
     "execution_count": 5,
     "metadata": {},
     "output_type": "execute_result"
    }
   ],
   "source": [
    "%%time\n",
    "hits['phi_bin'] = cpu.bin_phi(hits['x'].values, hits['y'].values, nPhiSlices)\n",
    "hits['r'] = np.hypot(hits['x'].values, hits['y'].values)\n",
    "hits.drop(columns=['x', 'y', 'volume_id', 'module_id', 'layer_id'], inplace=True)\n",
    "cols = hits.columns.tolist() # Rearranging column order\n",
    "cols = [cols[0],   # hit_id\n",
    "        cols[2],   # layer\n",
    "        cols[5],   # phi_bin\n",
    "        cols[3],   # r\n",
    "        cols[1],   # z\n",
    "        cols[4]]  # particle_id\n",
    "\n",
    "hits = hits[cols]\n",
    "hit_table = hits.values.astype(np.int64)\n",
    "nHits = hit_table.shape[0]\n",
    "print('Number of hits: ', nHits)\n",
    "\n",
    "hits"
   ]
  },
  {
   "cell_type": "code",
   "execution_count": 6,
   "metadata": {},
   "outputs": [
    {
     "name": "stdout",
     "output_type": "stream",
     "text": [
      "CPU times: user 1.12 ms, sys: 0 ns, total: 1.12 ms\n",
      "Wall time: 683 µs\n"
     ]
    }
   ],
   "source": [
    "%%time\n",
    "# Load onto device\n",
    "gpu_hit_table = cp.array(hit_table, dtype=cp.int32)"
   ]
  },
  {
   "cell_type": "markdown",
   "metadata": {},
   "source": [
    "### 5 Helper Functions"
   ]
  },
  {
   "cell_type": "code",
   "execution_count": 131,
   "metadata": {},
   "outputs": [],
   "source": [
    "@jit(nopython=True)\n",
    "def cpu_filter(inner_hit, layer_range, z_ranges):\n",
    "    '''\n",
    "    This function combines the helper filters into one filter\n",
    "    '''\n",
    "    keep = np.array([True] * hit_table.shape[0])\n",
    "    for row_idx in range(hit_table.shape[0]):\n",
    "        keep[row_idx] = (cpu.filter_layers(hit_table[row_idx][1], layer_range) and\n",
    "                         cpu.filter_phi(inner_hit[2],\n",
    "                                        hit_table[row_idx][2],\n",
    "                                        nPhiSlices) and\n",
    "                         cpu.filter_doublet_length(inner_hit[3],\n",
    "                                                   hit_table[row_idx][3],\n",
    "                                                   minDoubletLength,\n",
    "                                                   maxDoubletLength) and\n",
    "                         cpu.filter_horizontal_doublets(inner_hit[3],\n",
    "                                                        inner_hit[4],\n",
    "                                                        hit_table[row_idx][3],\n",
    "                                                        hit_table[row_idx][4],\n",
    "                                                        maxCtg) and\n",
    "                         cpu.filter_z(hit_table[row_idx][1],\n",
    "                                      hit_table[row_idx][4],\n",
    "                                      layer_range,\n",
    "                                      z_ranges))\n",
    "    return keep"
   ]
  },
  {
   "cell_type": "code",
   "execution_count": 132,
   "metadata": {},
   "outputs": [],
   "source": [
    "def gpu_filter(inner_hit, layer_range, z_ranges):\n",
    "    '''\n",
    "    This function combines the helper filters into one filter\n",
    "    '''\n",
    "    return (\n",
    "            gpu.filter_layers(gpu_hit_table[:, 1],\n",
    "                              layer_range) &\n",
    "            \n",
    "            gpu.filter_phi(inner_hit[2], \n",
    "                           gpu_hit_table[:, 2], \n",
    "                           nPhiSlices) &\n",
    "        \n",
    "            gpu.filter_doublet_length(inner_hit[3], \n",
    "                                      gpu_hit_table[:, 3], \n",
    "                                      minDoubletLength, \n",
    "                                      maxDoubletLength) &\n",
    "            \n",
    "            gpu.filter_horizontal_doublets(inner_hit[3],\n",
    "                                           inner_hit[4],\n",
    "                                           gpu_hit_table[:, 3],\n",
    "                                           gpu_hit_table[:, 4],\n",
    "                                           maxCtg) &\n",
    "        \n",
    "            gpu.filter_z(gpu_hit_table[:, 1],\n",
    "                         gpu_hit_table[:, 4],\n",
    "                         layer_range,\n",
    "                         z_ranges)\n",
    "           ) "
   ]
  },
  {
   "cell_type": "code",
   "execution_count": 133,
   "metadata": {},
   "outputs": [],
   "source": [
    "def get_valid_ranges(inner_hit):\n",
    "    '''\n",
    "    This function returns the list of layers that contain interesting hits,\n",
    "    given our chosen inner hit. It also returns the min/max bound in the\n",
    "    z-direction for interesting hits for each outer layer.\n",
    "    '''\n",
    "    #Get the radius of each layer\n",
    "    refCoords = np.array([modelLayers[layer_idx][1] for layer_idx in range(nLayers)], dtype=np.int64)\n",
    "\n",
    "    #Get the list of all valid layers\n",
    "    layer_range = cpu.get_layer_range(inner_hit, refCoords, nLayers, maxDoubletLength, FALSE_INT)\n",
    "\n",
    "    #Find the z bounds for each valid layer\n",
    "    z_ranges = cpu.get_z_ranges(inner_hit, refCoords, layer_range, zMinus, zPlus, FALSE_INT)\n",
    "\n",
    "    #Filter layers whose bounds of interest fall outside their geometric bounds\n",
    "    cpu.z_mask(layer_range, z_ranges, modelLayers, FALSE_INT)\n",
    "\n",
    "    return layer_range, z_ranges"
   ]
  },
  {
   "cell_type": "code",
   "execution_count": 134,
   "metadata": {},
   "outputs": [],
   "source": [
    "def gpu_get_valid_ranges():\n",
    "    '''\n",
    "    This function returns a (# of hits) x (4 + 2 * # of layers) matrix where the first four elements\n",
    "    of the ith row coorespond to layers containing valid outer hits for the ith hit. The remaining\n",
    "    elements in the ith row correspond to min and max z values for each layer. The rows alternate min,\n",
    "    max in ascending layer order (i.e the 5th column is the min of the 0th layer, 6th column is the \n",
    "    max of the 0th column, the 7th column is the min of 1st layer, etc.)\n",
    "    '''\n",
    "    vld_rngs_mtrx = cp.empty((gpu_hit_table.shape[0], 4 + 2*nLayers), dtype=cp.int32)\n",
    "    vld_rngs_mtrx[:, 0] = gpu_hit_table[:, 1] + 1\n",
    "    vld_rngs_mtrx[:, 1] = gpu_hit_table[:, 1] + 2\n",
    "    vld_rngs_mtrx[:, 2] = gpu_hit_table[:, 1] - 1\n",
    "    vld_rngs_mtrx[:, 3] = gpu_hit_table[:, 1] - 2\n",
    "\n",
    "    layers = cp.arange(nLayers)\n",
    "    vld_rngs_mtrx[:, :4][~ cp.isin(vld_rngs_mtrx[:, :4], layers)] = FALSE_INT\n",
    "    \n",
    "    # A loop over 2*(# of layers), not great but somewhat unavoidable\n",
    "    for i in cp.arange(4, vld_rngs_mtrx.shape[1], step=2):\n",
    "        vld_rngs_mtrx[:, i]   = zMinus + gpu_refCoords[i//2] * (gpu_hit_table[:, 4] - zMinus) // gpu_hit_table[:, 3]\n",
    "        vld_rngs_mtrx[:, i+1] = zPlus  + gpu_refCoords[i//2] * (gpu_hit_table[:, 4] - zPlus) // gpu_hit_table[:, 3]\n",
    "        vld_rngs_mtrx[:, i], vld_rngs_mtrx[:, i+1] = cp.amin(vld_rngs_mtrx[:, i:i+2], axis=1), cp.amax(vld_rngs_mtrx[:, i:i+2], axis=1)\n",
    "    \n",
    "    return vld_rngs_mtrx"
   ]
  },
  {
   "cell_type": "markdown",
   "metadata": {},
   "source": [
    "### 6 Make Doublets"
   ]
  },
  {
   "cell_type": "code",
   "execution_count": 68,
   "metadata": {},
   "outputs": [],
   "source": [
    "def make():\n",
    "    '''\n",
    "    This function makes all possible doublets that fit the criteria of the\n",
    "    filter. It first choses an inner hit and then iterates through the hit\n",
    "    table looking for possible outer hit candidates. It then returns a list\n",
    "    of hit ids cooresponding to the inner and outer hit pairs of the created\n",
    "    doublets.\n",
    "    '''\n",
    "    ncolumns = int(nHits * 0.01)\n",
    "    outer_2D = np.zeros((nHits, ncolumns), dtype=int64)\n",
    "\n",
    "    for row_idx in range(nHits):\n",
    "        inner_hit = hit_table[row_idx]\n",
    "        layer_range, z_ranges = get_valid_ranges(inner_hit)\n",
    "        outer_hit_set = hit_table[filter(inner_hit, layer_range, z_ranges)].T[0]\n",
    "        for column_idx in prange(len(outer_hit_set)):\n",
    "            outer_2D[row_idx][column_idx] = outer_hit_set[column_idx]\n",
    "\n",
    "    outer = np.reshape(outer_2D, (1, nHits * ncolumns))[0]\n",
    "    inner = np.zeros(len(outer), dtype=int64)\n",
    "    for row_count in prange(outer_2D.shape[0]):\n",
    "        for col_count in prange(ncolumns):\n",
    "             inner[(row_count * ncolumns + col_count)] = hit_table[row_count][0]\n",
    "\n",
    "    return inner, outer"
   ]
  },
  {
   "cell_type": "code",
   "execution_count": 69,
   "metadata": {},
   "outputs": [
    {
     "name": "stdout",
     "output_type": "stream",
     "text": [
      "CPU times: user 1min 51s, sys: 1.14 s, total: 1min 52s\n",
      "Wall time: 6.04 s\n"
     ]
    },
    {
     "data": {
      "text/plain": [
       "(array([20683, 20683, 20683, ..., 91858, 91858, 91858]),\n",
       " array([29745, 36655, 28135, ...,     0,     0,     0]))"
      ]
     },
     "execution_count": 69,
     "metadata": {},
     "output_type": "execute_result"
    }
   ],
   "source": [
    "%%time\n",
    "make()"
   ]
  },
  {
   "cell_type": "code",
   "execution_count": 68,
   "metadata": {},
   "outputs": [],
   "source": [
    "def gpu_make():\n",
    "    '''\n",
    "    This function makes all possible doublets that fit the criteria of the\n",
    "    filter.\n",
    "    '''\n",
    "    range_mtrx = gpu_get_valid_ranges()\n",
    "    \n",
    "    # Layer Filter (might need to create a kernel to vectorize this operation)\n",
    "    layer_mask = cp.empty((gpu_hit_table.shape[0], gpu_hit_table.shape[0]), dtype=cp.bool)\n",
    "    for i in range(gpu_hit_table.shape[0]):\n",
    "        layer_mask[i, :] = gpu.filter_layers(gpu_hit_table[:, 1], range_mtrx[i, :4])\n",
    "        \n",
    "    # Filter Phi\n",
    "    "
   ]
  },
  {
   "cell_type": "code",
   "execution_count": null,
   "metadata": {},
   "outputs": [],
   "source": []
  },
  {
   "cell_type": "markdown",
   "metadata": {},
   "source": [
    "### 7 CPU vs GPU Performance Comparisons"
   ]
  },
  {
   "cell_type": "markdown",
   "metadata": {},
   "source": [
    "#### Filter Comparison"
   ]
  },
  {
   "cell_type": "code",
   "execution_count": 13,
   "metadata": {},
   "outputs": [],
   "source": [
    "layer_range, z_ranges = get_valid_ranges(hit_table[0])\n",
    "gpu_layer_range, gpu_z_ranges = cp.array(layer_range), cp.array(z_ranges)"
   ]
  },
  {
   "cell_type": "code",
   "execution_count": 27,
   "metadata": {},
   "outputs": [
    {
     "name": "stdout",
     "output_type": "stream",
     "text": [
      "CPU times: user 46.6 s, sys: 4.1 ms, total: 46.7 s\n",
      "Wall time: 46.6 s\n"
     ]
    }
   ],
   "source": [
    "%%time\n",
    "for i in range(hit_table.shape[0]):\n",
    "    cpu_filter(hit_table[i], layer_range, z_ranges)"
   ]
  },
  {
   "cell_type": "code",
   "execution_count": 28,
   "metadata": {},
   "outputs": [
    {
     "name": "stdout",
     "output_type": "stream",
     "text": [
      "CPU times: user 19.5 s, sys: 14 µs, total: 19.5 s\n",
      "Wall time: 19.5 s\n"
     ]
    }
   ],
   "source": [
    "%%time\n",
    "for i in range(gpu_hit_table.shape[0]):\n",
    "    gpu_filter(gpu_hit_table[i], gpu_layer_range, gpu_z_ranges)"
   ]
  },
  {
   "cell_type": "markdown",
   "metadata": {},
   "source": [
    "#### Valid Range Comparison"
   ]
  },
  {
   "cell_type": "code",
   "execution_count": 44,
   "metadata": {},
   "outputs": [
    {
     "name": "stdout",
     "output_type": "stream",
     "text": [
      "CPU times: user 1.78 s, sys: 0 ns, total: 1.78 s\n",
      "Wall time: 1.78 s\n"
     ]
    }
   ],
   "source": [
    "%%time\n",
    "for i in range(hit_table.shape[0]):\n",
    "    layer_range, z_ranges = get_valid_ranges(hit_table[i])"
   ]
  },
  {
   "cell_type": "code",
   "execution_count": 139,
   "metadata": {},
   "outputs": [
    {
     "name": "stdout",
     "output_type": "stream",
     "text": [
      "CPU times: user 9 ms, sys: 0 ns, total: 9 ms\n",
      "Wall time: 8.14 ms\n"
     ]
    },
    {
     "data": {
      "text/plain": [
       "array([[    1,     2, 99999, ...,    72,   -46,   351],\n",
       "       [    2,     3,     0, ...,   150,   150,   154],\n",
       "       [    3,     4,     1, ...,   176,    95,   209],\n",
       "       ...,\n",
       "       [    8,     9,     6, ...,   178,   -54,   214],\n",
       "       [    9, 99999,     7, ...,   185,   -44,   230],\n",
       "       [    8,     9,     6, ...,   187,   -34,   233]], dtype=int32)"
      ]
     },
     "execution_count": 139,
     "metadata": {},
     "output_type": "execute_result"
    }
   ],
   "source": [
    "%%time\n",
    "gpu_get_valid_ranges()"
   ]
  },
  {
   "cell_type": "markdown",
   "metadata": {},
   "source": [
    "#### Make Comparison"
   ]
  },
  {
   "cell_type": "code",
   "execution_count": 140,
   "metadata": {},
   "outputs": [],
   "source": [
    "range_mtrx = gpu_get_valid_ranges()"
   ]
  },
  {
   "cell_type": "code",
   "execution_count": 21,
   "metadata": {},
   "outputs": [
    {
     "name": "stdout",
     "output_type": "stream",
     "text": [
      "CPU times: user 2.79 s, sys: 2.08 ms, total: 2.79 s\n",
      "Wall time: 2.79 s\n"
     ]
    }
   ],
   "source": [
    "%%time\n",
    "layer_mask = cp.empty((gpu_hit_table.shape[0], gpu_hit_table.shape[0]), dtype=cp.bool)\n",
    "for i in range(gpu_hit_table.shape[0]):\n",
    "    layer_mask[i, :] = cp.isin(gpu_hit_table[:, 1], range_mtrx[:, :4])"
   ]
  },
  {
   "cell_type": "code",
   "execution_count": 175,
   "metadata": {},
   "outputs": [],
   "source": [
    "layer_filter_kernel = cp.RawKernel(r'''\n",
    "     extern \"C\" __global__\n",
    "     void my_layer_filter(const int* x1, const int* x2, const int in_colsize, int* out) {\n",
    "         \n",
    "         int out_row = blockIdx.x;\n",
    "         int out_col = threadIdx.x;\n",
    "         int out_size = blockDim.x;\n",
    "         \n",
    "         float target = x2[out_col];\n",
    "         bool isin = 0;\n",
    "         for(int in_col=0; in_col<in_colsize; in_col++){\n",
    "             if(x1[out_row*in_colsize + in_col] == target){\n",
    "                 isin = 1;\n",
    "             }\n",
    "         }\n",
    "         \n",
    "         out[out_row*out_size + out_col] = isin;\n",
    "     }\n",
    "     ''', 'my_layer_filter')"
   ]
  },
  {
   "cell_type": "code",
   "execution_count": 179,
   "metadata": {},
   "outputs": [
    {
     "name": "stdout",
     "output_type": "stream",
     "text": [
      "CPU times: user 505 µs, sys: 191 µs, total: 696 µs\n",
      "Wall time: 582 µs\n"
     ]
    }
   ],
   "source": [
    "%%time\n",
    "layer_mask = cp.zeros((1024, 1024), dtype=cp.int32)\n",
    "layer_filter_kernel((1024,), (1024,), (range_mtrx[:1024, :4], gpu_hit_table[:1024, 1], 4, layer_mask))"
   ]
  },
  {
   "cell_type": "code",
   "execution_count": 180,
   "metadata": {},
   "outputs": [
    {
     "data": {
      "text/plain": [
       "array([[0, 1, 1, ..., 1, 0, 0],\n",
       "       [0, 0, 0, ..., 0, 0, 0],\n",
       "       [0, 0, 0, ..., 0, 0, 0],\n",
       "       ...,\n",
       "       [0, 0, 0, ..., 0, 0, 0],\n",
       "       [0, 0, 0, ..., 0, 0, 0],\n",
       "       [0, 0, 0, ..., 0, 0, 0]], dtype=int32)"
      ]
     },
     "execution_count": 180,
     "metadata": {},
     "output_type": "execute_result"
    }
   ],
   "source": [
    "layer_mask"
   ]
  },
  {
   "cell_type": "code",
   "execution_count": null,
   "metadata": {},
   "outputs": [],
   "source": []
  },
  {
   "cell_type": "code",
   "execution_count": null,
   "metadata": {},
   "outputs": [],
   "source": []
  },
  {
   "cell_type": "code",
   "execution_count": 31,
   "metadata": {},
   "outputs": [],
   "source": [
    "x1 = cp.arange(25, dtype=cp.float32).reshape(5, 5)\n",
    "x2 = cp.arange(25, dtype=cp.float32).reshape(5, 5)"
   ]
  },
  {
   "cell_type": "code",
   "execution_count": 32,
   "metadata": {},
   "outputs": [
    {
     "name": "stdout",
     "output_type": "stream",
     "text": [
      "[[ 0.  1.  2.  3.  4.]\n",
      " [ 5.  6.  7.  8.  9.]\n",
      " [10. 11. 12. 13. 14.]\n",
      " [15. 16. 17. 18. 19.]\n",
      " [20. 21. 22. 23. 24.]]\n",
      "[[ 0.  1.  2.  3.  4.]\n",
      " [ 5.  6.  7.  8.  9.]\n",
      " [10. 11. 12. 13. 14.]\n",
      " [15. 16. 17. 18. 19.]\n",
      " [20. 21. 22. 23. 24.]]\n"
     ]
    }
   ],
   "source": [
    "print(x1)\n",
    "print(x2)"
   ]
  },
  {
   "cell_type": "code",
   "execution_count": 33,
   "metadata": {},
   "outputs": [],
   "source": [
    "add_kernel = cp.RawKernel(r'''\n",
    "     extern \"C\" __global__\n",
    "     void my_add(const float* x1, const float* x2, float* y) {\n",
    "         int tid = blockDim.x * blockIdx.x + threadIdx.x;\n",
    "         y[tid] = x1[tid] + x2[tid];\n",
    "     }\n",
    "     ''', 'my_add')"
   ]
  },
  {
   "cell_type": "code",
   "execution_count": 34,
   "metadata": {},
   "outputs": [],
   "source": [
    "y = cp.zeros((5, 5), dtype=cp.float32)"
   ]
  },
  {
   "cell_type": "code",
   "execution_count": 36,
   "metadata": {},
   "outputs": [],
   "source": [
    "add_kernel((5,), (5,), (x1, x2, y))"
   ]
  },
  {
   "cell_type": "code",
   "execution_count": 37,
   "metadata": {},
   "outputs": [
    {
     "data": {
      "text/plain": [
       "array([[ 0.,  2.,  4.,  6.,  8.],\n",
       "       [10., 12., 14., 16., 18.],\n",
       "       [20., 22., 24., 26., 28.],\n",
       "       [30., 32., 34., 36., 38.],\n",
       "       [40., 42., 44., 46., 48.]], dtype=float32)"
      ]
     },
     "execution_count": 37,
     "metadata": {},
     "output_type": "execute_result"
    }
   ],
   "source": [
    "y"
   ]
  },
  {
   "cell_type": "code",
   "execution_count": null,
   "metadata": {},
   "outputs": [],
   "source": []
  },
  {
   "cell_type": "code",
   "execution_count": null,
   "metadata": {},
   "outputs": [],
   "source": []
  },
  {
   "cell_type": "code",
   "execution_count": 54,
   "metadata": {},
   "outputs": [],
   "source": [
    "trans_add_kernel = cp.RawKernel(r'''\n",
    "     extern \"C\" __global__\n",
    "     void my_trans_add(const float* x1, const float* x2, float* y) {\n",
    "         int tid_one = blockDim.x * blockIdx.x + threadIdx.x;\n",
    "         int tid_two = blockDim.x * threadIdx.x + blockIdx.x;\n",
    "         y[tid_one] = x1[tid_one] + x2[tid_two];\n",
    "     }\n",
    "     ''', 'my_trans_add')"
   ]
  },
  {
   "cell_type": "code",
   "execution_count": 55,
   "metadata": {},
   "outputs": [],
   "source": [
    "y = cp.zeros((5, 5), dtype=cp.float32)"
   ]
  },
  {
   "cell_type": "code",
   "execution_count": 56,
   "metadata": {},
   "outputs": [],
   "source": [
    "trans_add_kernel((5,), (5,), (x1, x2, y))"
   ]
  },
  {
   "cell_type": "code",
   "execution_count": 57,
   "metadata": {},
   "outputs": [
    {
     "data": {
      "text/plain": [
       "array([[ 0.,  6., 12., 18., 24.],\n",
       "       [ 6., 12., 18., 24., 30.],\n",
       "       [12., 18., 24., 30., 36.],\n",
       "       [18., 24., 30., 36., 42.],\n",
       "       [24., 30., 36., 42., 48.]], dtype=float32)"
      ]
     },
     "execution_count": 57,
     "metadata": {},
     "output_type": "execute_result"
    }
   ],
   "source": [
    "y"
   ]
  },
  {
   "cell_type": "code",
   "execution_count": null,
   "metadata": {},
   "outputs": [],
   "source": []
  },
  {
   "cell_type": "code",
   "execution_count": null,
   "metadata": {},
   "outputs": [],
   "source": []
  },
  {
   "cell_type": "code",
   "execution_count": 161,
   "metadata": {},
   "outputs": [],
   "source": [
    "x1 = cp.arange(3072, dtype=cp.float32).reshape((1024, 3))\n",
    "x2 = cp.arange(1024, dtype=cp.float32)\n",
    "colsize = 3\n",
    "y = cp.zeros((1024, 1024), dtype=cp.int32)"
   ]
  },
  {
   "cell_type": "code",
   "execution_count": 162,
   "metadata": {},
   "outputs": [],
   "source": [
    "layer_filter_kernel = cp.RawKernel(r'''\n",
    "     extern \"C\" __global__\n",
    "     void my_layer_filter(const float* x1, const float* x2, const int in_colsize, int* out) {\n",
    "         \n",
    "         int out_row = blockIdx.x;\n",
    "         int out_col = threadIdx.x;\n",
    "         int out_size = blockDim.x;\n",
    "         \n",
    "         float target = x2[out_col];\n",
    "         int isin = 0;\n",
    "         for(int in_col=0; in_col<in_colsize; in_col++){\n",
    "             if(x1[out_row*in_colsize + in_col] == target){\n",
    "                 isin = 1;\n",
    "             }\n",
    "         }\n",
    "         out[out_row*out_size + out_col] = isin;\n",
    "     }\n",
    "     ''', 'my_layer_filter')"
   ]
  },
  {
   "cell_type": "code",
   "execution_count": 163,
   "metadata": {},
   "outputs": [],
   "source": [
    "isin_kernel((1024,), (1024,), (x1, x2, colsize, y))"
   ]
  },
  {
   "cell_type": "code",
   "execution_count": 170,
   "metadata": {},
   "outputs": [
    {
     "data": {
      "text/plain": [
       "array([1, 1, 1, ..., 0, 0, 0], dtype=int32)"
      ]
     },
     "execution_count": 170,
     "metadata": {},
     "output_type": "execute_result"
    }
   ],
   "source": [
    "y[4, 12:]"
   ]
  },
  {
   "cell_type": "code",
   "execution_count": 99,
   "metadata": {},
   "outputs": [
    {
     "data": {
      "text/plain": [
       "array([[ 0.,  1.,  2.],\n",
       "       [ 3.,  4.,  5.],\n",
       "       [ 6.,  7.,  8.],\n",
       "       [ 9., 10., 11.],\n",
       "       [12., 13., 14.]], dtype=float32)"
      ]
     },
     "execution_count": 99,
     "metadata": {},
     "output_type": "execute_result"
    }
   ],
   "source": [
    "x1"
   ]
  },
  {
   "cell_type": "code",
   "execution_count": 100,
   "metadata": {},
   "outputs": [
    {
     "data": {
      "text/plain": [
       "array([0., 1., 2., 3., 4.], dtype=float32)"
      ]
     },
     "execution_count": 100,
     "metadata": {},
     "output_type": "execute_result"
    }
   ],
   "source": [
    "x2"
   ]
  },
  {
   "cell_type": "code",
   "execution_count": null,
   "metadata": {},
   "outputs": [],
   "source": []
  },
  {
   "cell_type": "code",
   "execution_count": null,
   "metadata": {},
   "outputs": [],
   "source": []
  },
  {
   "cell_type": "code",
   "execution_count": 7,
   "metadata": {},
   "outputs": [],
   "source": [
    "def get_N_threads(nhits):\n",
    "    '''\n",
    "    Returns the number of blocks and threads per block\n",
    "    for a given number of hits.\n",
    "    '''\n",
    "    ncomparisons = nhits**2\n",
    "    if ncomparisons < 1024:\n",
    "        return 1, ncomparisions\n",
    "    else:\n",
    "        return int(np.ceil(ncomparisons/1024)), 1024"
   ]
  },
  {
   "cell_type": "code",
   "execution_count": 8,
   "metadata": {},
   "outputs": [],
   "source": [
    "build_doublets_kernel = cp.RawKernel(r'''\n",
    "     extern \"C\" __global__\n",
    "     void my_build_doublets(const int* hits, const int* params, const int* refCoords, const int N, int* out1, int* out2) {\n",
    "         \n",
    "         // Map Thread to hits\n",
    "         int tid = blockIdx.x * blockDim.x + threadIdx.x;\n",
    "         unsigned int in_idx = tid / N;\n",
    "         unsigned int out_idx = tid % N;\n",
    "         \n",
    "         if(tid < N*N){\n",
    "             \n",
    "             // Define constants\n",
    "             int nPhiSlices = params[0];\n",
    "             int maxDoubletLength = params[1];\n",
    "             int minDoubletLength = params[2];\n",
    "             int maxCtg = params[3];\n",
    "             int zMinus = params[4];\n",
    "             int zPlus = params[5];\n",
    "\n",
    "             int in_id = hits[in_idx * 6];\n",
    "             int in_lyr = hits[in_idx * 6 + 1];\n",
    "             int in_phi = hits[in_idx * 6 + 2];\n",
    "             int in_r = hits[in_idx * 6 + 3];\n",
    "             int in_z = hits[in_idx * 6 + 4];\n",
    "\n",
    "             int ot_id = hits[out_idx * 6];\n",
    "             int ot_lyr = hits[out_idx * 6 + 1];\n",
    "             int ot_phi = hits[out_idx * 6 + 2];\n",
    "             int ot_r = hits[out_idx * 6 + 3];\n",
    "             int ot_z = hits[out_idx * 6 + 4];\n",
    "\n",
    "             bool isvalid;\n",
    "\n",
    "             // Layer filter\n",
    "             isvalid = (ot_lyr == in_lyr+1 || ot_lyr == in_lyr+2 || ot_lyr == in_lyr-1 || ot_lyr == in_lyr-2);\n",
    "\n",
    "             // Phi filter\n",
    "             isvalid = (((in_phi - 1) == ot_phi) || \n",
    "                        ((in_phi + 1) == ot_phi) || (in_phi == ot_phi) ||\n",
    "                        ((in_phi == 0) & ot_phi == nPhiSlices - 2) ||\n",
    "                        ((in_phi == nPhiSlices - 2) & ot_phi == 0)) && isvalid;\n",
    "             \n",
    "             // Doublet length filter\n",
    "             isvalid = (((ot_r - in_r) < maxDoubletLength) & ((ot_r - in_r) > minDoubletLength)) && isvalid;\n",
    "\n",
    "             // Horizontal doublet filter\n",
    "             //isvalid = (abs((ot_z - in_z)/(ot_r - in_r)) < maxCtg) && isvalid;\n",
    "\n",
    "             // Z filter\n",
    "             float zmin = zMinus + refCoords[ot_lyr] * (in_z - zMinus) / in_r;\n",
    "             float zmax = zPlus + refCoords[ot_lyr] * (in_z - zPlus) / in_r;\n",
    "             if(zmin > zmax){float temp=zmin; zmin=zmax; zmax=temp;}\n",
    "             isvalid = (ot_z > zmin and ot_z < zmax) && isvalid;\n",
    "\n",
    "             // Store result in out array\n",
    "             if(isvalid){\n",
    "                 out1[N*in_idx + out_idx] = in_id;\n",
    "                 out2[N*in_idx + out_idx] = ot_id;\n",
    "             }\n",
    "        }\n",
    "     }\n",
    "     ''', 'my_build_doublets')"
   ]
  },
  {
   "cell_type": "code",
   "execution_count": 9,
   "metadata": {},
   "outputs": [],
   "source": [
    "nhits = cp.array(nHits, dtype=cp.int32)\n",
    "params = cp.array([nPhiSlices, \n",
    "                   maxDoubletLength, \n",
    "                   minDoubletLength,\n",
    "                   maxCtg,\n",
    "                   zMinus,\n",
    "                   zPlus], dtype=cp.int32)\n",
    "gpu_refCoords = cp.array(refCoords, dtype=cp.int32)\n",
    "inner_dblts = cp.zeros(nHits**2, dtype=cp.int32)\n",
    "outer_dblts = cp.zeros(nHits**2, dtype=cp.int32)"
   ]
  },
  {
   "cell_type": "code",
   "execution_count": 10,
   "metadata": {},
   "outputs": [
    {
     "name": "stdout",
     "output_type": "stream",
     "text": [
      "CPU times: user 136 ms, sys: 12.6 ms, total: 149 ms\n",
      "Wall time: 228 ms\n"
     ]
    }
   ],
   "source": [
    "%%time\n",
    "nBlocks, thrdsPerBlk = get_N_threads(nHits)\n",
    "build_doublets_kernel((nBlocks,), (thrdsPerBlk,), (gpu_hit_table,\n",
    "                                                  params,\n",
    "                                                  gpu_refCoords,\n",
    "                                                  nHits,\n",
    "                                                  inner_dblts,\n",
    "                                                  outer_dblts))"
   ]
  },
  {
   "cell_type": "code",
   "execution_count": null,
   "metadata": {},
   "outputs": [],
   "source": []
  },
  {
   "cell_type": "code",
   "execution_count": null,
   "metadata": {},
   "outputs": [],
   "source": [
    "doublets[0, 0]"
   ]
  },
  {
   "cell_type": "code",
   "execution_count": null,
   "metadata": {},
   "outputs": [],
   "source": [
    "doublets[0, 1]"
   ]
  },
  {
   "cell_type": "code",
   "execution_count": null,
   "metadata": {},
   "outputs": [],
   "source": []
  },
  {
   "cell_type": "code",
   "execution_count": null,
   "metadata": {},
   "outputs": [],
   "source": []
  },
  {
   "cell_type": "code",
   "execution_count": null,
   "metadata": {},
   "outputs": [],
   "source": []
  },
  {
   "cell_type": "code",
   "execution_count": null,
   "metadata": {},
   "outputs": [],
   "source": []
  },
  {
   "cell_type": "code",
   "execution_count": null,
   "metadata": {},
   "outputs": [],
   "source": []
  }
 ],
 "metadata": {
  "kernelspec": {
   "display_name": "Python [conda env:.conda-exatrkx]",
   "language": "python",
   "name": "conda-env-.conda-exatrkx-py"
  },
  "language_info": {
   "codemirror_mode": {
    "name": "ipython",
    "version": 3
   },
   "file_extension": ".py",
   "mimetype": "text/x-python",
   "name": "python",
   "nbconvert_exporter": "python",
   "pygments_lexer": "ipython3",
   "version": "3.7.6"
  }
 },
 "nbformat": 4,
 "nbformat_minor": 4
}
