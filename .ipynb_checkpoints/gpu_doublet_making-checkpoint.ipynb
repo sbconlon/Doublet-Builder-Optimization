{
 "cells": [
  {
   "cell_type": "markdown",
   "metadata": {},
   "source": [
    "## Doublet Maker"
   ]
  },
  {
   "cell_type": "markdown",
   "metadata": {},
   "source": [
    "### 1 Imports"
   ]
  },
  {
   "cell_type": "code",
   "execution_count": 1,
   "metadata": {},
   "outputs": [],
   "source": [
    "import numpy as np\n",
    "import pandas as pd\n",
    "import trackml.dataset\n",
    "import cupy as cp\n",
    "\n",
    "#CPU Imports\n",
    "from numba import jit, guvectorize, prange\n",
    "from numba import int64, float32, boolean\n",
    "\n",
    "import doublet_making_helper as cpu"
   ]
  },
  {
   "cell_type": "markdown",
   "metadata": {},
   "source": [
    "### 2 Constants"
   ]
  },
  {
   "cell_type": "code",
   "execution_count": 2,
   "metadata": {},
   "outputs": [],
   "source": [
    "pt_min = 0\n",
    "path= \"../exatrkx-work/volpredictor/train_100_events/\"\n",
    "nPhiSlices = 53\n",
    "nLayers = 10\n",
    "maxDoubletLength = 300.0\n",
    "minDoubletLength = 10.0\n",
    "zPlus = 150.0\n",
    "zMinus = -150.0\n",
    "maxEta = 2.7\n",
    "maxTheta = 2 * np.arctan(np.exp(-maxEta))    \n",
    "maxCtg = np.cos(maxTheta) / np.sin(maxTheta) \n",
    "modelLayers = np.array([\n",
    "                [0, 32,   -455,  455],   # 8-2\n",
    "                [0, 72,   -455,  455],   # 8-4\n",
    "                [0, 116,  -455,  455],   # 8-6\n",
    "                [0, 172,  -455,  455],   # 8-8\n",
    "                [0, 260,  -1030, 1030],  # 13-2\n",
    "                [0, 360,  -1030, 1030],  # 13-4\n",
    "                [0, 500,  -1030, 1030],  # 13-6\n",
    "                [0, 660,  -1030, 1030],  # 13-8\n",
    "                [0, 820,  -1030, 1030],  # 17-2\n",
    "                [0, 1020, -1030, 1030]   # 17-4\n",
    "], dtype='int32')\n",
    "\n",
    "#Get the radius of each layer\n",
    "refCoords = np.array([modelLayers[layer_idx][1] for layer_idx in range(nLayers)], dtype=np.int64)"
   ]
  },
  {
   "cell_type": "markdown",
   "metadata": {},
   "source": [
    "### 3 Load Data"
   ]
  },
  {
   "cell_type": "code",
   "execution_count": 3,
   "metadata": {},
   "outputs": [],
   "source": [
    "np.random.seed(30) # Chef Curry\n",
    "prefix= \"event00000\" + str(np.random.choice(100) + 1000)\n",
    "hits, particles, truth = trackml.dataset.load_event(\n",
    "        path + prefix, parts=['hits', 'particles', 'truth'])"
   ]
  },
  {
   "cell_type": "markdown",
   "metadata": {},
   "source": [
    "### 4 Prepare Data"
   ]
  },
  {
   "cell_type": "markdown",
   "metadata": {},
   "source": [
    "##### Make cuts"
   ]
  },
  {
   "cell_type": "code",
   "execution_count": 4,
   "metadata": {},
   "outputs": [
    {
     "name": "stdout",
     "output_type": "stream",
     "text": [
      "CPU times: user 4.2 s, sys: 21.5 ms, total: 4.22 s\n",
      "Wall time: 4.22 s\n"
     ]
    },
    {
     "data": {
      "text/html": [
       "<div>\n",
       "<style scoped>\n",
       "    .dataframe tbody tr th:only-of-type {\n",
       "        vertical-align: middle;\n",
       "    }\n",
       "\n",
       "    .dataframe tbody tr th {\n",
       "        vertical-align: top;\n",
       "    }\n",
       "\n",
       "    .dataframe thead th {\n",
       "        text-align: right;\n",
       "    }\n",
       "</style>\n",
       "<table border=\"1\" class=\"dataframe\">\n",
       "  <thead>\n",
       "    <tr style=\"text-align: right;\">\n",
       "      <th></th>\n",
       "      <th>hit_id</th>\n",
       "      <th>x</th>\n",
       "      <th>y</th>\n",
       "      <th>z</th>\n",
       "      <th>volume_id</th>\n",
       "      <th>layer_id</th>\n",
       "      <th>module_id</th>\n",
       "      <th>layer</th>\n",
       "      <th>r</th>\n",
       "      <th>particle_id</th>\n",
       "    </tr>\n",
       "  </thead>\n",
       "  <tbody>\n",
       "    <tr>\n",
       "      <th>5041</th>\n",
       "      <td>20683</td>\n",
       "      <td>31.391100</td>\n",
       "      <td>-1.742210</td>\n",
       "      <td>66.873100</td>\n",
       "      <td>8</td>\n",
       "      <td>2</td>\n",
       "      <td>120</td>\n",
       "      <td>0</td>\n",
       "      <td>31.439409</td>\n",
       "      <td>4503874505277440</td>\n",
       "    </tr>\n",
       "    <tr>\n",
       "      <th>13737</th>\n",
       "      <td>29745</td>\n",
       "      <td>71.156197</td>\n",
       "      <td>-1.098510</td>\n",
       "      <td>150.440002</td>\n",
       "      <td>8</td>\n",
       "      <td>4</td>\n",
       "      <td>304</td>\n",
       "      <td>1</td>\n",
       "      <td>71.164673</td>\n",
       "      <td>4503874505277440</td>\n",
       "    </tr>\n",
       "    <tr>\n",
       "      <th>20044</th>\n",
       "      <td>36655</td>\n",
       "      <td>116.768997</td>\n",
       "      <td>3.419910</td>\n",
       "      <td>246.522003</td>\n",
       "      <td>8</td>\n",
       "      <td>6</td>\n",
       "      <td>547</td>\n",
       "      <td>2</td>\n",
       "      <td>116.819069</td>\n",
       "      <td>4503874505277440</td>\n",
       "    </tr>\n",
       "    <tr>\n",
       "      <th>25466</th>\n",
       "      <td>43100</td>\n",
       "      <td>170.757996</td>\n",
       "      <td>14.356700</td>\n",
       "      <td>362.315002</td>\n",
       "      <td>8</td>\n",
       "      <td>8</td>\n",
       "      <td>976</td>\n",
       "      <td>3</td>\n",
       "      <td>171.360458</td>\n",
       "      <td>4503874505277440</td>\n",
       "    </tr>\n",
       "    <tr>\n",
       "      <th>30823</th>\n",
       "      <td>73099</td>\n",
       "      <td>252.804993</td>\n",
       "      <td>43.484100</td>\n",
       "      <td>545.200012</td>\n",
       "      <td>13</td>\n",
       "      <td>2</td>\n",
       "      <td>622</td>\n",
       "      <td>4</td>\n",
       "      <td>256.517487</td>\n",
       "      <td>4503874505277440</td>\n",
       "    </tr>\n",
       "    <tr>\n",
       "      <th>...</th>\n",
       "      <td>...</td>\n",
       "      <td>...</td>\n",
       "      <td>...</td>\n",
       "      <td>...</td>\n",
       "      <td>...</td>\n",
       "      <td>...</td>\n",
       "      <td>...</td>\n",
       "      <td>...</td>\n",
       "      <td>...</td>\n",
       "      <td>...</td>\n",
       "    </tr>\n",
       "    <tr>\n",
       "      <th>30344</th>\n",
       "      <td>72575</td>\n",
       "      <td>-247.811005</td>\n",
       "      <td>69.083298</td>\n",
       "      <td>259.200012</td>\n",
       "      <td>13</td>\n",
       "      <td>2</td>\n",
       "      <td>559</td>\n",
       "      <td>4</td>\n",
       "      <td>257.260162</td>\n",
       "      <td>801642176780959744</td>\n",
       "    </tr>\n",
       "    <tr>\n",
       "      <th>40856</th>\n",
       "      <td>85479</td>\n",
       "      <td>-415.795990</td>\n",
       "      <td>277.283997</td>\n",
       "      <td>524.000000</td>\n",
       "      <td>13</td>\n",
       "      <td>6</td>\n",
       "      <td>1241</td>\n",
       "      <td>6</td>\n",
       "      <td>499.772675</td>\n",
       "      <td>801642176780959744</td>\n",
       "    </tr>\n",
       "    <tr>\n",
       "      <th>44753</th>\n",
       "      <td>91383</td>\n",
       "      <td>-440.278015</td>\n",
       "      <td>488.877014</td>\n",
       "      <td>734.799988</td>\n",
       "      <td>13</td>\n",
       "      <td>8</td>\n",
       "      <td>1823</td>\n",
       "      <td>7</td>\n",
       "      <td>657.909912</td>\n",
       "      <td>801642176780959744</td>\n",
       "    </tr>\n",
       "    <tr>\n",
       "      <th>47731</th>\n",
       "      <td>107646</td>\n",
       "      <td>-270.306000</td>\n",
       "      <td>775.133972</td>\n",
       "      <td>1067.800049</td>\n",
       "      <td>17</td>\n",
       "      <td>2</td>\n",
       "      <td>2497</td>\n",
       "      <td>8</td>\n",
       "      <td>820.912903</td>\n",
       "      <td>801642176780959744</td>\n",
       "    </tr>\n",
       "    <tr>\n",
       "      <th>45051</th>\n",
       "      <td>91858</td>\n",
       "      <td>-237.419006</td>\n",
       "      <td>614.135010</td>\n",
       "      <td>915.599976</td>\n",
       "      <td>13</td>\n",
       "      <td>8</td>\n",
       "      <td>2021</td>\n",
       "      <td>7</td>\n",
       "      <td>658.429626</td>\n",
       "      <td>801642176797745154</td>\n",
       "    </tr>\n",
       "  </tbody>\n",
       "</table>\n",
       "<p>40095 rows × 10 columns</p>\n",
       "</div>"
      ],
      "text/plain": [
       "       hit_id           x           y            z  volume_id  layer_id  \\\n",
       "5041    20683   31.391100   -1.742210    66.873100          8         2   \n",
       "13737   29745   71.156197   -1.098510   150.440002          8         4   \n",
       "20044   36655  116.768997    3.419910   246.522003          8         6   \n",
       "25466   43100  170.757996   14.356700   362.315002          8         8   \n",
       "30823   73099  252.804993   43.484100   545.200012         13         2   \n",
       "...       ...         ...         ...          ...        ...       ...   \n",
       "30344   72575 -247.811005   69.083298   259.200012         13         2   \n",
       "40856   85479 -415.795990  277.283997   524.000000         13         6   \n",
       "44753   91383 -440.278015  488.877014   734.799988         13         8   \n",
       "47731  107646 -270.306000  775.133972  1067.800049         17         2   \n",
       "45051   91858 -237.419006  614.135010   915.599976         13         8   \n",
       "\n",
       "       module_id  layer           r         particle_id  \n",
       "5041         120      0   31.439409    4503874505277440  \n",
       "13737        304      1   71.164673    4503874505277440  \n",
       "20044        547      2  116.819069    4503874505277440  \n",
       "25466        976      3  171.360458    4503874505277440  \n",
       "30823        622      4  256.517487    4503874505277440  \n",
       "...          ...    ...         ...                 ...  \n",
       "30344        559      4  257.260162  801642176780959744  \n",
       "40856       1241      6  499.772675  801642176780959744  \n",
       "44753       1823      7  657.909912  801642176780959744  \n",
       "47731       2497      8  820.912903  801642176780959744  \n",
       "45051       2021      7  658.429626  801642176797745154  \n",
       "\n",
       "[40095 rows x 10 columns]"
      ]
     },
     "execution_count": 4,
     "metadata": {},
     "output_type": "execute_result"
    }
   ],
   "source": [
    "%%time\n",
    "# Barrel volume and layer ids\n",
    "vlids = [(8,2), (8,4), (8,6), (8,8),\n",
    "         (13,2), (13,4), (13,6), (13,8),\n",
    "         (17,2), (17,4)]\n",
    "n_det_layers = len(vlids)\n",
    "\n",
    "# Select barrel layers and assign convenient layer number [0-9]\n",
    "vlid_groups = hits.groupby(['volume_id', 'layer_id'])\n",
    "hits = pd.concat([vlid_groups.get_group(vlids[i]).assign(layer=i)\n",
    "                  for i in range(n_det_layers)])\n",
    "\n",
    "# Calculate particle transverse momentum\n",
    "pt = np.sqrt(particles.px**2 + particles.py**2)\n",
    "\n",
    "# True particle selection.\n",
    "# Applies pt cut, removes all noise hits.\n",
    "particles = particles[pt > pt_min]\n",
    "truth = (truth[['hit_id', 'particle_id']]\n",
    "         .merge(particles[['particle_id']], on='particle_id'))\n",
    "\n",
    "# Calculate derived hits variables\n",
    "r = np.sqrt(hits.x**2 + hits.y**2)\n",
    "phi = np.arctan2(hits.y, hits.x)\n",
    "\n",
    "# Select the data columns we need\n",
    "hits = (hits\n",
    "        .assign(r=r)\n",
    "        .merge(truth[['hit_id', 'particle_id']], on='hit_id'))\n",
    "\n",
    "# Remove duplicate hits\n",
    "hits = hits.loc[\n",
    "    hits.groupby(['particle_id', 'layer'], as_index=False).r.idxmin()\n",
    "]\n",
    "\n",
    "hits"
   ]
  },
  {
   "cell_type": "markdown",
   "metadata": {},
   "source": [
    "##### Reformat hit table"
   ]
  },
  {
   "cell_type": "code",
   "execution_count": 5,
   "metadata": {},
   "outputs": [
    {
     "name": "stdout",
     "output_type": "stream",
     "text": [
      "Number of hits:  40095\n",
      "CPU times: user 120 ms, sys: 159 µs, total: 120 ms\n",
      "Wall time: 119 ms\n"
     ]
    },
    {
     "data": {
      "text/html": [
       "<div>\n",
       "<style scoped>\n",
       "    .dataframe tbody tr th:only-of-type {\n",
       "        vertical-align: middle;\n",
       "    }\n",
       "\n",
       "    .dataframe tbody tr th {\n",
       "        vertical-align: top;\n",
       "    }\n",
       "\n",
       "    .dataframe thead th {\n",
       "        text-align: right;\n",
       "    }\n",
       "</style>\n",
       "<table border=\"1\" class=\"dataframe\">\n",
       "  <thead>\n",
       "    <tr style=\"text-align: right;\">\n",
       "      <th></th>\n",
       "      <th>hit_id</th>\n",
       "      <th>layer</th>\n",
       "      <th>phi_bin</th>\n",
       "      <th>r</th>\n",
       "      <th>z</th>\n",
       "      <th>particle_id</th>\n",
       "    </tr>\n",
       "  </thead>\n",
       "  <tbody>\n",
       "    <tr>\n",
       "      <th>5041</th>\n",
       "      <td>20683</td>\n",
       "      <td>0</td>\n",
       "      <td>51</td>\n",
       "      <td>31.439409</td>\n",
       "      <td>66.873100</td>\n",
       "      <td>4503874505277440</td>\n",
       "    </tr>\n",
       "    <tr>\n",
       "      <th>13737</th>\n",
       "      <td>29745</td>\n",
       "      <td>1</td>\n",
       "      <td>51</td>\n",
       "      <td>71.164673</td>\n",
       "      <td>150.440002</td>\n",
       "      <td>4503874505277440</td>\n",
       "    </tr>\n",
       "    <tr>\n",
       "      <th>20044</th>\n",
       "      <td>36655</td>\n",
       "      <td>2</td>\n",
       "      <td>0</td>\n",
       "      <td>116.819069</td>\n",
       "      <td>246.522003</td>\n",
       "      <td>4503874505277440</td>\n",
       "    </tr>\n",
       "    <tr>\n",
       "      <th>25466</th>\n",
       "      <td>43100</td>\n",
       "      <td>3</td>\n",
       "      <td>0</td>\n",
       "      <td>171.360458</td>\n",
       "      <td>362.315002</td>\n",
       "      <td>4503874505277440</td>\n",
       "    </tr>\n",
       "    <tr>\n",
       "      <th>30823</th>\n",
       "      <td>73099</td>\n",
       "      <td>4</td>\n",
       "      <td>1</td>\n",
       "      <td>256.517517</td>\n",
       "      <td>545.200012</td>\n",
       "      <td>4503874505277440</td>\n",
       "    </tr>\n",
       "    <tr>\n",
       "      <th>...</th>\n",
       "      <td>...</td>\n",
       "      <td>...</td>\n",
       "      <td>...</td>\n",
       "      <td>...</td>\n",
       "      <td>...</td>\n",
       "      <td>...</td>\n",
       "    </tr>\n",
       "    <tr>\n",
       "      <th>30344</th>\n",
       "      <td>72575</td>\n",
       "      <td>4</td>\n",
       "      <td>23</td>\n",
       "      <td>257.260162</td>\n",
       "      <td>259.200012</td>\n",
       "      <td>801642176780959744</td>\n",
       "    </tr>\n",
       "    <tr>\n",
       "      <th>40856</th>\n",
       "      <td>85479</td>\n",
       "      <td>6</td>\n",
       "      <td>21</td>\n",
       "      <td>499.772675</td>\n",
       "      <td>524.000000</td>\n",
       "      <td>801642176780959744</td>\n",
       "    </tr>\n",
       "    <tr>\n",
       "      <th>44753</th>\n",
       "      <td>91383</td>\n",
       "      <td>7</td>\n",
       "      <td>19</td>\n",
       "      <td>657.909912</td>\n",
       "      <td>734.799988</td>\n",
       "      <td>801642176780959744</td>\n",
       "    </tr>\n",
       "    <tr>\n",
       "      <th>47731</th>\n",
       "      <td>107646</td>\n",
       "      <td>8</td>\n",
       "      <td>15</td>\n",
       "      <td>820.912903</td>\n",
       "      <td>1067.800049</td>\n",
       "      <td>801642176780959744</td>\n",
       "    </tr>\n",
       "    <tr>\n",
       "      <th>45051</th>\n",
       "      <td>91858</td>\n",
       "      <td>7</td>\n",
       "      <td>16</td>\n",
       "      <td>658.429626</td>\n",
       "      <td>915.599976</td>\n",
       "      <td>801642176797745154</td>\n",
       "    </tr>\n",
       "  </tbody>\n",
       "</table>\n",
       "<p>40095 rows × 6 columns</p>\n",
       "</div>"
      ],
      "text/plain": [
       "       hit_id  layer  phi_bin           r            z         particle_id\n",
       "5041    20683      0       51   31.439409    66.873100    4503874505277440\n",
       "13737   29745      1       51   71.164673   150.440002    4503874505277440\n",
       "20044   36655      2        0  116.819069   246.522003    4503874505277440\n",
       "25466   43100      3        0  171.360458   362.315002    4503874505277440\n",
       "30823   73099      4        1  256.517517   545.200012    4503874505277440\n",
       "...       ...    ...      ...         ...          ...                 ...\n",
       "30344   72575      4       23  257.260162   259.200012  801642176780959744\n",
       "40856   85479      6       21  499.772675   524.000000  801642176780959744\n",
       "44753   91383      7       19  657.909912   734.799988  801642176780959744\n",
       "47731  107646      8       15  820.912903  1067.800049  801642176780959744\n",
       "45051   91858      7       16  658.429626   915.599976  801642176797745154\n",
       "\n",
       "[40095 rows x 6 columns]"
      ]
     },
     "execution_count": 5,
     "metadata": {},
     "output_type": "execute_result"
    }
   ],
   "source": [
    "%%time\n",
    "hits['phi_bin'] = cpu.bin_phi(hits['x'].values, hits['y'].values, nPhiSlices)\n",
    "hits['r'] = np.hypot(hits['x'].values, hits['y'].values)\n",
    "hits.drop(columns=['x', 'y', 'volume_id', 'module_id', 'layer_id'], inplace=True)\n",
    "cols = hits.columns.tolist() # Rearranging column order\n",
    "cols = [cols[0],   # hit_id\n",
    "        cols[2],   # layer\n",
    "        cols[5],   # phi_bin\n",
    "        cols[3],   # r\n",
    "        cols[1],   # z\n",
    "        cols[4]]  # particle_id\n",
    "\n",
    "hits = hits[cols]\n",
    "hit_table = hits.values.astype(np.int64)\n",
    "nHits = hit_table.shape[0]\n",
    "print('Number of hits: ', nHits)\n",
    "\n",
    "hits"
   ]
  },
  {
   "cell_type": "markdown",
   "metadata": {},
   "source": [
    "### 5. GPU Pre-Proccessing"
   ]
  },
  {
   "cell_type": "markdown",
   "metadata": {},
   "source": [
    "##### Calculate Number of Threads"
   ]
  },
  {
   "cell_type": "code",
   "execution_count": 6,
   "metadata": {},
   "outputs": [],
   "source": [
    "def get_N_threads(nhits):\n",
    "    '''\n",
    "    Returns the number of blocks and threads per block\n",
    "    for a given number of hits.\n",
    "    '''\n",
    "    ncomparisons = nhits**2\n",
    "    if ncomparisons < 1024:\n",
    "        return 1, ncomparisions\n",
    "    else:\n",
    "        return int(np.ceil(ncomparisons/1024)), 1024"
   ]
  },
  {
   "cell_type": "markdown",
   "metadata": {},
   "source": [
    "##### Define Kernel Function"
   ]
  },
  {
   "cell_type": "code",
   "execution_count": 7,
   "metadata": {},
   "outputs": [],
   "source": [
    "build_doublets_kernel = cp.RawKernel(r'''\n",
    "     extern \"C\" __global__\n",
    "     void my_build_doublets(const int* hits, const int* params, const int* refCoords, const int N, int* out1, int* out2) {\n",
    "         \n",
    "         // Map Thread to hits\n",
    "         int tid = blockIdx.x * blockDim.x + threadIdx.x;\n",
    "         unsigned int in_idx = tid / N;\n",
    "         unsigned int out_idx = tid % N;\n",
    "         \n",
    "         if(tid < N*N){\n",
    "             \n",
    "             // Define constants\n",
    "             int nPhiSlices = params[0];\n",
    "             int maxDoubletLength = params[1];\n",
    "             int minDoubletLength = params[2];\n",
    "             int maxCtg = params[3];\n",
    "             int zMinus = params[4];\n",
    "             int zPlus = params[5];\n",
    "\n",
    "             int in_id = hits[in_idx * 6];\n",
    "             int in_lyr = hits[in_idx * 6 + 1];\n",
    "             int in_phi = hits[in_idx * 6 + 2];\n",
    "             int in_r = hits[in_idx * 6 + 3];\n",
    "             int in_z = hits[in_idx * 6 + 4];\n",
    "\n",
    "             int ot_id = hits[out_idx * 6];\n",
    "             int ot_lyr = hits[out_idx * 6 + 1];\n",
    "             int ot_phi = hits[out_idx * 6 + 2];\n",
    "             int ot_r = hits[out_idx * 6 + 3];\n",
    "             int ot_z = hits[out_idx * 6 + 4];\n",
    "\n",
    "             bool isvalid;\n",
    "\n",
    "             // Layer filter\n",
    "             isvalid = (ot_lyr == in_lyr+1 || ot_lyr == in_lyr+2 || ot_lyr == in_lyr-1 || ot_lyr == in_lyr-2);\n",
    "\n",
    "             // Phi filter\n",
    "             isvalid = (((in_phi - 1) == ot_phi) || \n",
    "                        ((in_phi + 1) == ot_phi) || (in_phi == ot_phi) ||\n",
    "                        ((in_phi == 0) & ot_phi == nPhiSlices - 2) ||\n",
    "                        ((in_phi == nPhiSlices - 2) & ot_phi == 0)) && isvalid;\n",
    "             \n",
    "             // Doublet length filter\n",
    "             isvalid = (((ot_r - in_r) < maxDoubletLength) & ((ot_r - in_r) > minDoubletLength)) && isvalid;\n",
    "\n",
    "             // Horizontal doublet filter\n",
    "             //isvalid = (abs((ot_z - in_z)/(ot_r - in_r)) < maxCtg) && isvalid;\n",
    "\n",
    "             // Z filter\n",
    "             float zmin = zMinus + refCoords[ot_lyr] * (in_z - zMinus) / in_r;\n",
    "             float zmax = zPlus + refCoords[ot_lyr] * (in_z - zPlus) / in_r;\n",
    "             if(zmin > zmax){float temp=zmin; zmin=zmax; zmax=temp;}\n",
    "             isvalid = (ot_z > zmin and ot_z < zmax) && isvalid;\n",
    "\n",
    "             // Store result in out array\n",
    "             if(isvalid){\n",
    "                 out1[tid] = in_id;\n",
    "                 out2[tid] = ot_id;\n",
    "             }\n",
    "        }\n",
    "     }\n",
    "     ''', 'my_build_doublets')"
   ]
  },
  {
   "cell_type": "markdown",
   "metadata": {},
   "source": [
    "##### Allocate memory on GPU"
   ]
  },
  {
   "cell_type": "code",
   "execution_count": 8,
   "metadata": {},
   "outputs": [],
   "source": [
    "gpu_hit_table = cp.array(hit_table, dtype=cp.int32)\n",
    "nhits = cp.array(nHits, dtype=cp.int32)\n",
    "params = cp.array([nPhiSlices, \n",
    "                   maxDoubletLength, \n",
    "                   minDoubletLength,\n",
    "                   maxCtg,\n",
    "                   zMinus,\n",
    "                   zPlus], dtype=cp.int32)\n",
    "gpu_refCoords = cp.array(refCoords, dtype=cp.int32)\n",
    "inner_dblts = cp.zeros(nHits**2, dtype=cp.int32)\n",
    "outer_dblts = cp.zeros(nHits**2, dtype=cp.int32)"
   ]
  },
  {
   "cell_type": "markdown",
   "metadata": {},
   "source": [
    "### 6. Build Doublets"
   ]
  },
  {
   "cell_type": "code",
   "execution_count": 9,
   "metadata": {},
   "outputs": [
    {
     "name": "stdout",
     "output_type": "stream",
     "text": [
      "CPU times: user 0 ns, sys: 2.08 ms, total: 2.08 ms\n",
      "Wall time: 1.91 ms\n"
     ]
    }
   ],
   "source": [
    "%%time\n",
    "nBlocks, thrdsPerBlk = get_N_threads(nHits)\n",
    "build_doublets_kernel((nBlocks,), (thrdsPerBlk,), (gpu_hit_table,\n",
    "                                                  params,\n",
    "                                                  gpu_refCoords,\n",
    "                                                  nHits,\n",
    "                                                  inner_dblts,\n",
    "                                                  outer_dblts))"
   ]
  },
  {
   "cell_type": "markdown",
   "metadata": {},
   "source": [
    "### 7. GPU Post-Processing"
   ]
  },
  {
   "cell_type": "markdown",
   "metadata": {},
   "source": [
    "##### Free Anscillary Data from GPU"
   ]
  },
  {
   "cell_type": "code",
   "execution_count": 9,
   "metadata": {},
   "outputs": [
    {
     "name": "stdout",
     "output_type": "stream",
     "text": [
      "Freed 964096 Bytes\n"
     ]
    }
   ],
   "source": [
    "mempool = cp.get_default_memory_pool()\n",
    "pinned_mempool = cp.get_default_pinned_memory_pool()\n",
    "init_bytes = mempool.used_bytes()\n",
    "del gpu_hit_table\n",
    "del nhits\n",
    "del params\n",
    "del gpu_refCoords\n",
    "mempool.free_all_blocks()\n",
    "pinned_mempool.free_all_blocks()\n",
    "print(\"Freed\", init_bytes - mempool.used_bytes(), \"Bytes\")"
   ]
  },
  {
   "cell_type": "code",
   "execution_count": 10,
   "metadata": {},
   "outputs": [
    {
     "data": {
      "text/plain": [
       "array(302333)"
      ]
     },
     "execution_count": 10,
     "metadata": {},
     "output_type": "execute_result"
    }
   ],
   "source": [
    "cp.count_nonzero(inner_dblts)"
   ]
  },
  {
   "cell_type": "code",
   "execution_count": 11,
   "metadata": {},
   "outputs": [
    {
     "data": {
      "text/plain": [
       "array(496557)"
      ]
     },
     "execution_count": 11,
     "metadata": {},
     "output_type": "execute_result"
    }
   ],
   "source": [
    "cp.count_nonzero(outer_dblts)"
   ]
  },
  {
   "cell_type": "code",
   "execution_count": null,
   "metadata": {},
   "outputs": [],
   "source": []
  }
 ],
 "metadata": {
  "kernelspec": {
   "display_name": "Python [conda env:.conda-exatrkx]",
   "language": "python",
   "name": "conda-env-.conda-exatrkx-py"
  },
  "language_info": {
   "codemirror_mode": {
    "name": "ipython",
    "version": 3
   },
   "file_extension": ".py",
   "mimetype": "text/x-python",
   "name": "python",
   "nbconvert_exporter": "python",
   "pygments_lexer": "ipython3",
   "version": "3.7.6"
  }
 },
 "nbformat": 4,
 "nbformat_minor": 4
}
